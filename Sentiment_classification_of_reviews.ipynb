{
  "nbformat": 4,
  "nbformat_minor": 0,
  "metadata": {
    "colab": {
      "name": "Sentiment_classification_of_reviews.ipynb",
      "provenance": []
    },
    "kernelspec": {
      "name": "python3",
      "display_name": "Python 3"
    },
    "language_info": {
      "name": "python"
    },
    "accelerator": "GPU"
  },
  "cells": [
    {
      "cell_type": "code",
      "metadata": {
        "id": "gmbqDRMbgy87"
      },
      "source": [
        "import torch\n",
        "import numpy as np\n",
        "import torch.optim as opt\n",
        "import torch.nn as nn\n",
        "import torch.nn.functional as F"
      ],
      "execution_count": 1,
      "outputs": []
    },
    {
      "cell_type": "code",
      "metadata": {
        "id": "WH2t-W7yiru7"
      },
      "source": [
        "with open('reviews.txt', 'r') as f:\n",
        "  reviews = f.read()\n",
        "\n",
        "with open('labels.txt', 'r') as f:\n",
        "  labels = f.read()"
      ],
      "execution_count": 2,
      "outputs": []
    },
    {
      "cell_type": "code",
      "metadata": {
        "colab": {
          "base_uri": "https://localhost:8080/"
        },
        "id": "ogGCcOVijI4u",
        "outputId": "e25d380e-2039-4d72-b346-b5d0589b4d7a"
      },
      "source": [
        "print(reviews[:100], end = '\\n')\n",
        "print(labels[:100])"
      ],
      "execution_count": 3,
      "outputs": [
        {
          "output_type": "stream",
          "text": [
            "bromwell high is a cartoon comedy . it ran at the same time as some other programs about school life\n",
            "positive\n",
            "negative\n",
            "positive\n",
            "negative\n",
            "positive\n",
            "negative\n",
            "positive\n",
            "negative\n",
            "positive\n",
            "negative\n",
            "positive\n",
            "n\n"
          ],
          "name": "stdout"
        }
      ]
    },
    {
      "cell_type": "code",
      "metadata": {
        "colab": {
          "base_uri": "https://localhost:8080/"
        },
        "id": "FZKK6fdgjP83",
        "outputId": "3761c02e-5131-4479-8cdd-ac1df1b1ad57"
      },
      "source": [
        "from string import punctuation\n",
        "\n",
        "print(punctuation)\n",
        "\n",
        "reviews = reviews.lower()\n",
        "all_text = ''.join([c for c in reviews if c not in punctuation])\n",
        "\n",
        "reviews_split = all_text.split('\\n')\n",
        "\n",
        "all_text = ' '.join(reviews_split)\n",
        "\n",
        "words = all_text.split()"
      ],
      "execution_count": 4,
      "outputs": [
        {
          "output_type": "stream",
          "text": [
            "!\"#$%&'()*+,-./:;<=>?@[\\]^_`{|}~\n"
          ],
          "name": "stdout"
        }
      ]
    },
    {
      "cell_type": "code",
      "metadata": {
        "colab": {
          "base_uri": "https://localhost:8080/"
        },
        "id": "fMOnqX94klee",
        "outputId": "801ec4ec-f3c1-49b2-cbdc-3259620ec9cd"
      },
      "source": [
        "words[:30]"
      ],
      "execution_count": 5,
      "outputs": [
        {
          "output_type": "execute_result",
          "data": {
            "text/plain": [
              "['bromwell',\n",
              " 'high',\n",
              " 'is',\n",
              " 'a',\n",
              " 'cartoon',\n",
              " 'comedy',\n",
              " 'it',\n",
              " 'ran',\n",
              " 'at',\n",
              " 'the',\n",
              " 'same',\n",
              " 'time',\n",
              " 'as',\n",
              " 'some',\n",
              " 'other',\n",
              " 'programs',\n",
              " 'about',\n",
              " 'school',\n",
              " 'life',\n",
              " 'such',\n",
              " 'as',\n",
              " 'teachers',\n",
              " 'my',\n",
              " 'years',\n",
              " 'in',\n",
              " 'the',\n",
              " 'teaching',\n",
              " 'profession',\n",
              " 'lead',\n",
              " 'me']"
            ]
          },
          "metadata": {
            "tags": []
          },
          "execution_count": 5
        }
      ]
    },
    {
      "cell_type": "code",
      "metadata": {
        "id": "1BiDu5MNkyUm"
      },
      "source": [
        "from collections import Counter\n",
        "\n",
        "counts = Counter(words)\n",
        "vocab = sorted(counts, key = counts.get, reverse=True)\n",
        "vocab_to_int = {word:ii for ii, word in enumerate(vocab, 1)}\n",
        "\n",
        "review_ints = []\n",
        "for review in reviews_split:\n",
        "  review_ints.append([vocab_to_int[word] for word in review.split()])"
      ],
      "execution_count": 7,
      "outputs": []
    },
    {
      "cell_type": "code",
      "metadata": {
        "colab": {
          "base_uri": "https://localhost:8080/"
        },
        "id": "Zng16HrllG92",
        "outputId": "4a894b55-dcc0-4fa6-e504-8baa3bc2f0fc"
      },
      "source": [
        "print(\"Number of Unique words {}\".format(len(vocab)) )\n",
        "print(\"First review after numerical encoding\")\n",
        "print(review_ints[0])"
      ],
      "execution_count": 8,
      "outputs": [
        {
          "output_type": "stream",
          "text": [
            "Number of Unique words 74072\n",
            "First review after numerical encoding\n",
            "[21025, 308, 6, 3, 1050, 207, 8, 2138, 32, 1, 171, 57, 15, 49, 81, 5785, 44, 382, 110, 140, 15, 5194, 60, 154, 9, 1, 4975, 5852, 475, 71, 5, 260, 12, 21025, 308, 13, 1978, 6, 74, 2395, 5, 613, 73, 6, 5194, 1, 24103, 5, 1983, 10166, 1, 5786, 1499, 36, 51, 66, 204, 145, 67, 1199, 5194, 19869, 1, 37442, 4, 1, 221, 883, 31, 2988, 71, 4, 1, 5787, 10, 686, 2, 67, 1499, 54, 10, 216, 1, 383, 9, 62, 3, 1406, 3686, 783, 5, 3483, 180, 1, 382, 10, 1212, 13583, 32, 308, 3, 349, 341, 2913, 10, 143, 127, 5, 7690, 30, 4, 129, 5194, 1406, 2326, 5, 21025, 308, 10, 528, 12, 109, 1448, 4, 60, 543, 102, 12, 21025, 308, 6, 227, 4146, 48, 3, 2211, 12, 8, 215, 23]\n"
          ],
          "name": "stdout"
        }
      ]
    },
    {
      "cell_type": "code",
      "metadata": {
        "id": "WVikaTkTqZga"
      },
      "source": [
        "labels_split = labels.split('\\n')\n",
        "\n",
        "targets = [1 if label == 'positive' else 0 for label in labels_split]"
      ],
      "execution_count": 9,
      "outputs": []
    },
    {
      "cell_type": "code",
      "metadata": {
        "id": "KfEXOuekqywC"
      },
      "source": [
        "encoded_labels = np.array(targets)"
      ],
      "execution_count": 10,
      "outputs": []
    },
    {
      "cell_type": "code",
      "metadata": {
        "colab": {
          "base_uri": "https://localhost:8080/"
        },
        "id": "LhnR6ivarYul",
        "outputId": "63ecfff2-87c6-4af6-aa6f-e471b07da861"
      },
      "source": [
        "review_len = Counter([len(x) for x in review_ints])\n",
        "\n",
        "print(f\"No of zero length reviews {review_len[0]}\")\n",
        "print(f\"Longest review is of size {max(review_len)}\")"
      ],
      "execution_count": 12,
      "outputs": [
        {
          "output_type": "stream",
          "text": [
            "No of zero length reviews 1\n",
            "Longest review is of size 2514\n"
          ],
          "name": "stdout"
        }
      ]
    },
    {
      "cell_type": "code",
      "metadata": {
        "colab": {
          "base_uri": "https://localhost:8080/"
        },
        "id": "vsml9Oj0uCJI",
        "outputId": "0485fefe-82a4-4587-d1ce-9d9356099455"
      },
      "source": [
        "print(\"No of reviews before removing zero length reviews {}\".format(len(review_ints)))\n",
        "\n",
        "non_zero_idx = [ii for ii, review in enumerate(review_ints) if len(review)!=0]\n",
        "\n",
        "review_ints = [review_ints[ii] for ii in non_zero_idx]\n",
        "encoded_labels = np.array([encoded_labels[ii] for ii in non_zero_idx])\n",
        "\n",
        "print(\"No of reviews after removing zero length reviews {}\".format(len(review_ints)))"
      ],
      "execution_count": 13,
      "outputs": [
        {
          "output_type": "stream",
          "text": [
            "No of reviews before removing zero length reviews 25001\n",
            "No of reviews after removing zero length reviews 25000\n"
          ],
          "name": "stdout"
        }
      ]
    },
    {
      "cell_type": "code",
      "metadata": {
        "id": "_VTYabfrwQdK"
      },
      "source": [
        "def pad_seqeunces(arr, seq_len):\n",
        "  features = np.zeros((len(arr), seq_len), dtype=int)\n",
        "\n",
        "  for i, row in enumerate(arr):\n",
        "    features[i, -len(row):] = np.array(row)[:seq_len]\n",
        "  \n",
        "  return features"
      ],
      "execution_count": 15,
      "outputs": []
    },
    {
      "cell_type": "code",
      "metadata": {
        "colab": {
          "base_uri": "https://localhost:8080/"
        },
        "id": "2CZK2quNww4-",
        "outputId": "50d742fd-009d-4428-b5a4-476f65d74d45"
      },
      "source": [
        "seq_length = 200\n",
        "\n",
        "features = pad_seqeunces(review_ints, seq_length)\n",
        "\n",
        "assert len(features)==len(review_ints), 'Features should have as many rows as review_ints'\n",
        "assert len(features[0])==seq_length, 'Features should have seq_length no. of columns'\n",
        "\n",
        "print(features[:30, :10])"
      ],
      "execution_count": 16,
      "outputs": [
        {
          "output_type": "stream",
          "text": [
            "[[    0     0     0     0     0     0     0     0     0     0]\n",
            " [    0     0     0     0     0     0     0     0     0     0]\n",
            " [22382    42 46418    15   706 17139  3389    47    77    35]\n",
            " [ 4505   505    15     3  3342   162  8312  1652     6  4819]\n",
            " [    0     0     0     0     0     0     0     0     0     0]\n",
            " [    0     0     0     0     0     0     0     0     0     0]\n",
            " [    0     0     0     0     0     0     0     0     0     0]\n",
            " [    0     0     0     0     0     0     0     0     0     0]\n",
            " [    0     0     0     0     0     0     0     0     0     0]\n",
            " [   54    10    14   116    60   798   552    71   364     5]\n",
            " [    0     0     0     0     0     0     0     0     0     0]\n",
            " [    0     0     0     0     0     0     0     0     0     0]\n",
            " [    0     0     0     0     0     0     0     0     0     0]\n",
            " [    1   330   578    34     3   162   748  2731     9   325]\n",
            " [    9    11 10171  5305  1946   689   444    22   280   673]\n",
            " [    0     0     0     0     0     0     0     0     0     0]\n",
            " [    1   307 10399  2069  1565  6202  6528  3288 17946 10628]\n",
            " [    0     0     0     0     0     0     0     0     0     0]\n",
            " [   21   122  2069  1565   515  8181    88     6  1325  1182]\n",
            " [    1    20     6    76    40     6    58    81    95     5]\n",
            " [   54    10    84   329 26230 46427    63    10    14   614]\n",
            " [   11    20     6    30  1436 32317  3769   690 15100     6]\n",
            " [    0     0     0     0     0     0     0     0     0     0]\n",
            " [    0     0     0     0     0     0     0     0     0     0]\n",
            " [   40    26   109 17952  1422     9     1   327     4   125]\n",
            " [    0     0     0     0     0     0     0     0     0     0]\n",
            " [   10   499     1   307 10399    55    74     8    13    30]\n",
            " [    0     0     0     0     0     0     0     0     0     0]\n",
            " [    0     0     0     0     0     0     0     0     0     0]\n",
            " [    0     0     0     0     0     0     0     0     0     0]]\n"
          ],
          "name": "stdout"
        }
      ]
    },
    {
      "cell_type": "code",
      "metadata": {
        "colab": {
          "base_uri": "https://localhost:8080/"
        },
        "id": "gNmg-nPiyxg3",
        "outputId": "376c2bda-d13b-4e40-c379-6cfb9d3e00f3"
      },
      "source": [
        "split_frac = 0.8\n",
        "\n",
        "split_idx = int(len(features)*split_frac)\n",
        "train_x, remain_x = features[:split_idx], features[split_idx:]\n",
        "train_y, remain_y = encoded_labels[:split_idx], encoded_labels[split_idx:]\n",
        "\n",
        "split_idx = int(0.5*len(remain_x))\n",
        "eval_x, test_x = remain_x[:split_idx], remain_x[split_idx:]\n",
        "eval_y, test_y = remain_y[:split_idx], remain_y[split_idx:]\n",
        "\n",
        "print(train_x.shape)\n",
        "print(eval_x.shape)\n",
        "print(test_x.shape)"
      ],
      "execution_count": 20,
      "outputs": [
        {
          "output_type": "stream",
          "text": [
            "(20000, 200)\n",
            "(2500, 200)\n",
            "(2500, 200)\n"
          ],
          "name": "stdout"
        }
      ]
    },
    {
      "cell_type": "code",
      "metadata": {
        "id": "36yW7sYxz8UI"
      },
      "source": [
        "from torch.utils.data import TensorDataset, DataLoader\n",
        "\n",
        "train_data = TensorDataset(torch.from_numpy(train_x), torch.from_numpy(train_y))\n",
        "eval_data = TensorDataset(torch.from_numpy(eval_x), torch.from_numpy(eval_y))\n",
        "test_data = TensorDataset(torch.from_numpy(test_x), torch.from_numpy(test_y))\n",
        "\n",
        "batch_size = 50\n",
        "\n",
        "trainLoader = DataLoader(train_data, shuffle = True, batch_size = batch_size)\n",
        "testLoader = DataLoader(test_data, shuffle=True, batch_size=batch_size)\n",
        "evalLoader = DataLoader(eval_data, shuffle=True, batch_size=batch_size)"
      ],
      "execution_count": 21,
      "outputs": []
    },
    {
      "cell_type": "code",
      "metadata": {
        "colab": {
          "base_uri": "https://localhost:8080/"
        },
        "id": "c0pltUDd1aY_",
        "outputId": "46c9acda-ac71-421a-fd6f-c74cd84217cd"
      },
      "source": [
        "dataiter = iter(trainLoader)\n",
        "sample_x, sample_y = next(dataiter)\n",
        "\n",
        "print('Sample input size: ', sample_x.size()) \n",
        "print('Sample input: \\n', sample_x)\n",
        "print()\n",
        "print('Sample label size: ', sample_y.size()) \n",
        "print('Sample label: \\n', sample_y)"
      ],
      "execution_count": 22,
      "outputs": [
        {
          "output_type": "stream",
          "text": [
            "Sample input size:  torch.Size([50, 200])\n",
            "Sample input: \n",
            " tensor([[   10,   431,     5,  ...,   171,  1623,   461],\n",
            "        [  772,     1,  7054,  ...,     1,   330,   112],\n",
            "        [ 1052,     3,   318,  ...,    33,   967,   129],\n",
            "        ...,\n",
            "        [  786,    16,    60,  ..., 13900,    38,  2235],\n",
            "        [  596,   127,     6,  ...,   137,    70,   847],\n",
            "        [    0,     0,     0,  ...,    92,   203,    50]])\n",
            "\n",
            "Sample label size:  torch.Size([50])\n",
            "Sample label: \n",
            " tensor([0, 1, 1, 0, 1, 1, 1, 1, 0, 1, 0, 1, 0, 0, 0, 1, 0, 1, 0, 0, 1, 1, 0, 0,\n",
            "        0, 1, 1, 1, 1, 0, 0, 1, 1, 0, 1, 1, 1, 1, 1, 0, 0, 1, 0, 1, 0, 1, 1, 1,\n",
            "        1, 0])\n"
          ],
          "name": "stdout"
        }
      ]
    },
    {
      "cell_type": "code",
      "metadata": {
        "colab": {
          "base_uri": "https://localhost:8080/"
        },
        "id": "ntdvn0wT2m-w",
        "outputId": "94ad7128-a5f3-4c40-aa57-daf5bf5d79a3"
      },
      "source": [
        "train_on_gpu = torch.cuda.is_available()\n",
        "\n",
        "if train_on_gpu:\n",
        "  print(\"Training on GPU\")\n",
        "else:\n",
        "  print(\"Training on CPU\")"
      ],
      "execution_count": 23,
      "outputs": [
        {
          "output_type": "stream",
          "text": [
            "Training on GPU\n"
          ],
          "name": "stdout"
        }
      ]
    },
    {
      "cell_type": "code",
      "metadata": {
        "id": "GgOG-8ZF3Tga"
      },
      "source": [
        "class SentimentRNN(nn.Module):\n",
        "  def __init__(self, token_size, ouput_size, embedding_dim, hidden_dim, n_layers, drop_prob = 0.5):\n",
        "    super(SentimentRNN, self).__init__()\n",
        "\n",
        "    self.hidden_dim = hidden_dim\n",
        "    self.n_layers = n_layers\n",
        "    self.output_size = output_size\n",
        "\n",
        "    self.embedding = nn.Embedding(token_size, embedding_dim)\n",
        "    self.lstm = nn.LSTM(embedding_dim, hidden_dim, n_layers,dropout = drop_prob, batch_first = True)\n",
        "\n",
        "    self.dropout = nn.Dropout(0.3)\n",
        "\n",
        "    self.fc = nn.Linear(hidden_dim, output_size)\n",
        "\n",
        "    self.sig = nn.Sigmoid()\n",
        "\n",
        "  def forward(self, x, hidden):\n",
        "    x = x.long()\n",
        "\n",
        "    batch_size = x.size(0)\n",
        "\n",
        "    embeds = self.embedding(x)\n",
        "\n",
        "    lstm_outs, hidden = self.lstm(embeds, hidden)\n",
        "\n",
        "    lstm_outs = lstm_outs[:, -1, :]\n",
        "\n",
        "    out = self.fc(lstm_outs)\n",
        "    out = self.dropout(out)\n",
        "\n",
        "    sigs = self.sig(out)\n",
        "\n",
        "    return sigs, hidden\n",
        "\n",
        "  def init_hidden(self, batch_size):\n",
        "    weights = next(net.parameters()).data\n",
        "\n",
        "    if train_on_gpu:\n",
        "      hidden = (weights.new(self.n_layers, batch_size, self.hidden_dim).zero_().cuda(),\n",
        "                weights.new(self.n_layers, batch_size, self.hidden_dim).zero_().cuda())\n",
        "    else:\n",
        "      hidden = (weight.new(self.n_layers, batch_size, self.hidden_dim).zero_(),\n",
        "                weight.new(self.n_layers, batch_size, self.hidden_dim).zero_())\n",
        "    \n",
        "    return hidden"
      ],
      "execution_count": 40,
      "outputs": []
    },
    {
      "cell_type": "code",
      "metadata": {
        "colab": {
          "base_uri": "https://localhost:8080/"
        },
        "id": "1z3vm0lk8ZVe",
        "outputId": "18ef8d4b-ac97-4a11-870b-46aaeda9c2ef"
      },
      "source": [
        "token_size = len(vocab_to_int) + 1\n",
        "output_size = 1\n",
        "hidden_dim = 256\n",
        "embedding_size = 400\n",
        "n_layers = 2\n",
        "\n",
        "net = SentimentRNN(token_size, output_size, embedding_size, hidden_dim, n_layers)\n",
        "\n",
        "print(net)"
      ],
      "execution_count": 41,
      "outputs": [
        {
          "output_type": "stream",
          "text": [
            "SentimentRNN(\n",
            "  (embedding): Embedding(74073, 400)\n",
            "  (lstm): LSTM(400, 256, num_layers=2, batch_first=True, dropout=0.5)\n",
            "  (dropout): Dropout(p=0.3, inplace=False)\n",
            "  (fc): Linear(in_features=256, out_features=1, bias=True)\n",
            "  (sig): Sigmoid()\n",
            ")\n"
          ],
          "name": "stdout"
        }
      ]
    },
    {
      "cell_type": "code",
      "metadata": {
        "id": "bQ8bhVc-9RZZ"
      },
      "source": [
        "lr = 0.001\n",
        "\n",
        "criterion = nn.BCELoss()\n",
        "\n",
        "optimizer = opt.Adam(net.parameters(), lr = lr)"
      ],
      "execution_count": 42,
      "outputs": []
    },
    {
      "cell_type": "code",
      "metadata": {
        "colab": {
          "base_uri": "https://localhost:8080/"
        },
        "id": "Tyvoa3t2-Fa1",
        "outputId": "16031cd9-7964-4bb2-c34d-b7cde1122e97"
      },
      "source": [
        "epochs = 4 \n",
        "\n",
        "counter = 0\n",
        "print_every = 100\n",
        "clip=5 \n",
        "\n",
        "\n",
        "if(train_on_gpu):\n",
        "    net.cuda()\n",
        "\n",
        "net.train()\n",
        "\n",
        "for e in range(epochs):\n",
        "\n",
        "    h = net.init_hidden(batch_size)\n",
        "\n",
        "\n",
        "    for inputs, labels in trainLoader:\n",
        "        counter += 1\n",
        "\n",
        "        if(train_on_gpu):\n",
        "            inputs, labels = inputs.cuda(), labels.cuda()\n",
        "\n",
        "        h = tuple([each.data for each in h])\n",
        "\n",
        "\n",
        "        net.zero_grad()\n",
        "\n",
        "\n",
        "        output, h = net(inputs, h)\n",
        "\n",
        "\n",
        "        loss = criterion(output.squeeze(), labels.float())\n",
        "        loss.backward()\n",
        "\n",
        "        nn.utils.clip_grad_norm_(net.parameters(), clip)\n",
        "        optimizer.step()\n",
        "\n",
        "\n",
        "        if counter % print_every == 0:\n",
        "\n",
        "            val_h = net.init_hidden(batch_size)\n",
        "            val_losses = []\n",
        "            net.eval()\n",
        "            for inputs, labels in evalLoader:\n",
        "\n",
        "\n",
        "                val_h = tuple([each.data for each in val_h])\n",
        "\n",
        "                if(train_on_gpu):\n",
        "                    inputs, labels = inputs.cuda(), labels.cuda()\n",
        "\n",
        "                output, val_h = net(inputs, val_h)\n",
        "                val_loss = criterion(output.squeeze(), labels.float())\n",
        "\n",
        "                val_losses.append(val_loss.item())\n",
        "\n",
        "            net.train()\n",
        "            print(\"Epoch: {}/{}...\".format(e+1, epochs),\n",
        "                  \"Step: {}...\".format(counter),\n",
        "                  \"Loss: {:.6f}...\".format(loss.item()),\n",
        "                  \"Val Loss: {:.6f}\".format(np.mean(val_losses)))\n"
      ],
      "execution_count": 44,
      "outputs": [
        {
          "output_type": "stream",
          "text": [
            "Epoch: 1/4... Step: 100... Loss: 0.635163... Val Loss: 0.677931\n",
            "Epoch: 1/4... Step: 200... Loss: 0.605607... Val Loss: 0.666471\n",
            "Epoch: 1/4... Step: 300... Loss: 0.591498... Val Loss: 0.574938\n",
            "Epoch: 1/4... Step: 400... Loss: 0.605294... Val Loss: 0.581496\n",
            "Epoch: 2/4... Step: 500... Loss: 0.465846... Val Loss: 0.525107\n",
            "Epoch: 2/4... Step: 600... Loss: 0.596905... Val Loss: 0.551626\n",
            "Epoch: 2/4... Step: 700... Loss: 0.518762... Val Loss: 0.532923\n",
            "Epoch: 2/4... Step: 800... Loss: 0.413665... Val Loss: 0.498129\n",
            "Epoch: 3/4... Step: 900... Loss: 0.567285... Val Loss: 0.454341\n",
            "Epoch: 3/4... Step: 1000... Loss: 0.513801... Val Loss: 0.458865\n",
            "Epoch: 3/4... Step: 1100... Loss: 0.602542... Val Loss: 0.448647\n",
            "Epoch: 3/4... Step: 1200... Loss: 0.415384... Val Loss: 0.450705\n",
            "Epoch: 4/4... Step: 1300... Loss: 0.393313... Val Loss: 0.448229\n",
            "Epoch: 4/4... Step: 1400... Loss: 0.350736... Val Loss: 0.443219\n",
            "Epoch: 4/4... Step: 1500... Loss: 0.395996... Val Loss: 0.449715\n",
            "Epoch: 4/4... Step: 1600... Loss: 0.260642... Val Loss: 0.458378\n"
          ],
          "name": "stdout"
        }
      ]
    },
    {
      "cell_type": "code",
      "metadata": {
        "colab": {
          "base_uri": "https://localhost:8080/"
        },
        "id": "x-pkq0q5-ifI",
        "outputId": "850315f9-bd04-4da9-c6c3-511ba2b1f92e"
      },
      "source": [
        "test_losses = [] \n",
        "num_correct = 0\n",
        "\n",
        "\n",
        "h = net.init_hidden(batch_size)\n",
        "\n",
        "net.eval()\n",
        "\n",
        "for inputs, labels in testLoader:\n",
        "\n",
        "\n",
        "    h = tuple([each.data for each in h])\n",
        "\n",
        "    if(train_on_gpu):\n",
        "        inputs, labels = inputs.cuda(), labels.cuda()\n",
        "    \n",
        "\n",
        "    output, h = net(inputs, h)\n",
        "    \n",
        "\n",
        "    test_loss = criterion(output.squeeze(), labels.float())\n",
        "    test_losses.append(test_loss.item())\n",
        "    \n",
        "\n",
        "    pred = torch.round(output.squeeze())\n",
        "    \n",
        "    \n",
        "    correct_tensor = pred.eq(labels.float().view_as(pred))\n",
        "    correct = np.squeeze(correct_tensor.numpy()) if not train_on_gpu else np.squeeze(correct_tensor.cpu().numpy())\n",
        "    num_correct += np.sum(correct)\n",
        "\n",
        "\n",
        "\n",
        "print(\"Test loss: {:.3f}\".format(np.mean(test_losses)))\n",
        "\n",
        "\n",
        "test_acc = num_correct/len(testLoader.dataset)\n",
        "print(\"Test accuracy: {:.3f}\".format(test_acc))"
      ],
      "execution_count": 47,
      "outputs": [
        {
          "output_type": "stream",
          "text": [
            "Test loss: 0.453\n",
            "Test accuracy: 0.796\n"
          ],
          "name": "stdout"
        }
      ]
    },
    {
      "cell_type": "code",
      "metadata": {
        "id": "FYlNjL49Al7T"
      },
      "source": [
        "test_review_neg = 'The worst movie I have seen; acting was terrible and I want my money back. This movie had bad acting and the dialogue was slow.'"
      ],
      "execution_count": 48,
      "outputs": []
    },
    {
      "cell_type": "code",
      "metadata": {
        "id": "Bi2tNXsCAwoo"
      },
      "source": [
        "def tokenize_review(test_review):\n",
        "    test_review = test_review.lower()\n",
        "    \n",
        "    test_text = ''.join([c for c in test_review if c not in punctuation])\n",
        "\n",
        "    \n",
        "    test_words = test_text.split()\n",
        "\n",
        "    \n",
        "    test_ints = []\n",
        "    test_ints.append([vocab_to_int.get(word, 0) for word in test_words])\n",
        "\n",
        "    return test_ints"
      ],
      "execution_count": 54,
      "outputs": []
    },
    {
      "cell_type": "code",
      "metadata": {
        "id": "WFqoTHdXBfSO"
      },
      "source": [
        "def predict(net, test_review, sequence_length=200):\n",
        "    \n",
        "    net.eval()\n",
        "    \n",
        "    \n",
        "    test_ints = tokenize_review(test_review)\n",
        "    \n",
        "    \n",
        "    seq_length=sequence_length\n",
        "    features = pad_seqeunces(test_ints, seq_length)\n",
        "    \n",
        "    \n",
        "    feature_tensor = torch.from_numpy(features)\n",
        "    \n",
        "    batch_size = feature_tensor.size(0)\n",
        "    \n",
        "    \n",
        "    h = net.init_hidden(batch_size)\n",
        "    \n",
        "    if(train_on_gpu):\n",
        "        feature_tensor = feature_tensor.cuda()\n",
        "    \n",
        "    \n",
        "    output, h = net(feature_tensor, h)\n",
        "    \n",
        "    \n",
        "    pred = torch.round(output.squeeze()) \n",
        "    \n",
        "    print('Prediction value, pre-rounding: {:.6f}'.format(output.item()))\n",
        "    \n",
        "    \n",
        "    if(pred.item()==1):\n",
        "        print(\"Positive review detected!\")\n",
        "    else:\n",
        "        print(\"Negative review detected.\")"
      ],
      "execution_count": 55,
      "outputs": []
    },
    {
      "cell_type": "code",
      "metadata": {
        "colab": {
          "base_uri": "https://localhost:8080/"
        },
        "id": "ji_5cfB-CDgA",
        "outputId": "82515f96-c8f4-4294-b084-bd1e506f0aec"
      },
      "source": [
        "predict(net, test_review_neg, seq_length)"
      ],
      "execution_count": 56,
      "outputs": [
        {
          "output_type": "stream",
          "text": [
            "Prediction value, pre-rounding: 0.027085\n",
            "Negative review detected.\n"
          ],
          "name": "stdout"
        }
      ]
    },
    {
      "cell_type": "code",
      "metadata": {
        "colab": {
          "base_uri": "https://localhost:8080/"
        },
        "id": "NGONzL96CJg_",
        "outputId": "f02cd97a-5d66-43dd-ef30-2c3601b4bd14"
      },
      "source": [
        "predict(net, \"Movie was not good\", seq_length)"
      ],
      "execution_count": 58,
      "outputs": [
        {
          "output_type": "stream",
          "text": [
            "Prediction value, pre-rounding: 0.463442\n",
            "Negative review detected.\n"
          ],
          "name": "stdout"
        }
      ]
    },
    {
      "cell_type": "code",
      "metadata": {
        "colab": {
          "base_uri": "https://localhost:8080/"
        },
        "id": "xjJkRz_xCyaI",
        "outputId": "65771b98-4314-41d4-ebe3-b19d08966162"
      },
      "source": [
        "predict(net, \"Loved it!\", seq_length)"
      ],
      "execution_count": 60,
      "outputs": [
        {
          "output_type": "stream",
          "text": [
            "Prediction value, pre-rounding: 0.901594\n",
            "Positive review detected!\n"
          ],
          "name": "stdout"
        }
      ]
    },
    {
      "cell_type": "code",
      "metadata": {
        "id": "3pZMszQbDEs3"
      },
      "source": [
        ""
      ],
      "execution_count": null,
      "outputs": []
    }
  ]
}