{
  "nbformat": 4,
  "nbformat_minor": 0,
  "metadata": {
    "colab": {
      "name": "TimeSeries.ipynb",
      "provenance": []
    },
    "kernelspec": {
      "name": "python3",
      "display_name": "Python 3"
    },
    "language_info": {
      "name": "python"
    },
    "accelerator": "GPU"
  },
  "cells": [
    {
      "cell_type": "code",
      "metadata": {
        "id": "6i64c4vSS7sC"
      },
      "source": [
        "import torch\n",
        "from torch import nn\n",
        "import numpy as np\n",
        "import matplotlib.pyplot as plt\n",
        "%matplotlib inline"
      ],
      "execution_count": 1,
      "outputs": []
    },
    {
      "cell_type": "code",
      "metadata": {
        "colab": {
          "base_uri": "https://localhost:8080/",
          "height": 354
        },
        "id": "_9quB0--Vspq",
        "outputId": "2a42dc6b-1a17-4546-e0fc-7879052f292f"
      },
      "source": [
        "plt.figure(figsize=(8,5))\n",
        "\n",
        "seq_length = 20\n",
        "\n",
        "time_steps = np.linspace(0, np.pi, seq_length+1)\n",
        "data = np.sin(time_steps)\n",
        "\n",
        "print(data.shape)\n",
        "\n",
        "data.resize((seq_length+1, 1))\n",
        "\n",
        "print(data.shape)\n",
        "\n",
        "x = data[1:]\n",
        "y = data[:-1]\n",
        "\n",
        "plt.plot(time_steps[1:], x, 'r.', label = \"input, x\")\n",
        "plt.plot(time_steps[1:], y, 'b.', label = \"output, y\")\n",
        "\n",
        "plt.legend(loc = \"best\")\n",
        "plt.show()"
      ],
      "execution_count": 2,
      "outputs": [
        {
          "output_type": "stream",
          "text": [
            "(21,)\n",
            "(21, 1)\n"
          ],
          "name": "stdout"
        },
        {
          "output_type": "display_data",
          "data": {
            "image/png": "[encoded data removed]",
            "text/plain": [
              "<Figure size 576x360 with 1 Axes>"
            ]
          },
          "metadata": {
            "tags": [],
            "needs_background": "light"
          }
        }
      ]
    },
    {
      "cell_type": "code",
      "metadata": {
        "id": "8yJ37G0AXYkB"
      },
      "source": [
        "class RNN(nn.Module):\n",
        "  def __init__(self, input_size, output_size, hidden_dim, n_layers):\n",
        "    super(RNN, self).__init__()\n",
        "\n",
        "    self.hidden_dim = hidden_dim\n",
        "\n",
        "    self.rnn = nn.RNN(input_size, hidden_dim, n_layers, batch_first = True)\n",
        "\n",
        "    self.fc = nn.Linear(hidden_dim, output_size)\n",
        "  \n",
        "  def forward(self, x, hidden):\n",
        "    batch_size = x.size(0)\n",
        "\n",
        "    r_out, hidden = self.rnn(x, hidden)\n",
        "\n",
        "    r_out = r_out.view(-1, self.hidden_dim)\n",
        "\n",
        "    output = self.fc(r_out)\n",
        "\n",
        "    return output, hidden"
      ],
      "execution_count": 7,
      "outputs": []
    },
    {
      "cell_type": "code",
      "metadata": {
        "colab": {
          "base_uri": "https://localhost:8080/"
        },
        "id": "Bn1z2U9fczVg",
        "outputId": "20b0b510-6d43-45b8-c79a-5a149bd46282"
      },
      "source": [
        "test_rnn = RNN(1, 1, 10, 2)\n",
        "\n",
        "time_steps = np.linspace(0, np.pi, seq_length + 1)\n",
        "data = np.sin(time_steps)\n",
        "data.resize((seq_length+1, 1))\n",
        "\n",
        "test_input = torch.Tensor(data).unsqueeze(0)\n",
        "print(\"Input_size => \", test_input.size())\n",
        "\n",
        "output, hidden = test_rnn(test_input, None)\n",
        "\n",
        "print('Output size: ', output.size())\n",
        "print('Hidden state size: ', hidden.size())"
      ],
      "execution_count": 9,
      "outputs": [
        {
          "output_type": "stream",
          "text": [
            "Input_size =>  torch.Size([1, 21, 1])\n",
            "Output size:  torch.Size([21, 1])\n",
            "Hidden state size:  torch.Size([2, 1, 10])\n"
          ],
          "name": "stdout"
        }
      ]
    },
    {
      "cell_type": "code",
      "metadata": {
        "colab": {
          "base_uri": "https://localhost:8080/"
        },
        "id": "2CBlO-pYdt4e",
        "outputId": "c0569ded-7b7c-4a56-c380-12762576d706"
      },
      "source": [
        "input_size = 1\n",
        "hidden_dim = 32\n",
        "output_size = 1\n",
        "n_layers = 1\n",
        "\n",
        "rnn = RNN(input_size, output_size, hidden_dim, n_layers)\n",
        "\n",
        "print(rnn)"
      ],
      "execution_count": 10,
      "outputs": [
        {
          "output_type": "stream",
          "text": [
            "RNN(\n",
            "  (rnn): RNN(1, 32, batch_first=True)\n",
            "  (fc): Linear(in_features=32, out_features=1, bias=True)\n",
            ")\n"
          ],
          "name": "stdout"
        }
      ]
    },
    {
      "cell_type": "code",
      "metadata": {
        "id": "eW7CFT7dekGC"
      },
      "source": [
        "criterion = nn.MSELoss()\n",
        "optimizer = torch.optim.Adam(rnn.parameters(), lr = 0.01)"
      ],
      "execution_count": 11,
      "outputs": []
    },
    {
      "cell_type": "code",
      "metadata": {
        "id": "vYTLPnJLe33P"
      },
      "source": [
        "def train(rnn, n_steps, for_every):\n",
        "  hidden = None\n",
        "  for ii, step in enumerate(range(n_steps)):\n",
        "    time_steps = np.linspace(step*np.pi, (step+1)*np.pi, seq_length+1)\n",
        "    data = np.sin(time_steps)\n",
        "    data.resize((seq_length+1, 1))\n",
        "\n",
        "    x = data[:-1]\n",
        "    y = data[1:]\n",
        "\n",
        "    x_tensor = torch.Tensor(x).unsqueeze(0)\n",
        "    y_tensor = torch.Tensor(y)\n",
        "\n",
        "    predictions, hidden = rnn(x_tensor, hidden)\n",
        "\n",
        "    hidden = hidden.data\n",
        "\n",
        "    optimizer.zero_grad()\n",
        "    loss = criterion(predictions, y_tensor)\n",
        "    loss.backward()\n",
        "    optimizer.step()\n",
        "\n",
        "    if ii%for_every == 0:\n",
        "      print(\"loss \", loss.item())\n",
        "      plt.plot(time_steps[1:], x, 'r.', label=\"inputs\")\n",
        "      plt.plot(time_steps[1:], predictions.data.numpy().flatten(), 'b.', label = \"predictions\")\n",
        "      plt.legend()\n",
        "      plt.show()\n",
        "  \n",
        "  return rnn"
      ],
      "execution_count": 14,
      "outputs": []
    },
    {
      "cell_type": "code",
      "metadata": {
        "colab": {
          "base_uri": "https://localhost:8080/",
          "height": 1000
        },
        "id": "k_I63Otfh_8M",
        "outputId": "c17a6309-c3b4-4539-c8d5-31580abe2bed"
      },
      "source": [
        "n_steps = 75\n",
        "for_every = 15\n",
        "rnn = train(rnn, n_steps, for_every)"
      ],
      "execution_count": 15,
      "outputs": [
        {
          "output_type": "stream",
          "text": [
            "loss  0.3908778429031372\n"
          ],
          "name": "stdout"
        },
        {
          "output_type": "display_data",
          "data": {
            "image/png": "[encoded data removed]",
            "text/plain": [
              "<Figure size 432x288 with 1 Axes>"
            ]
          },
          "metadata": {
            "tags": [],
            "needs_background": "light"
          }
        },
        {
          "output_type": "stream",
          "text": [
            "loss  0.02847912535071373\n"
          ],
          "name": "stdout"
        },
        {
          "output_type": "display_data",
          "data": {
            "image/png": "[encoded data removed]",
            "text/plain": [
              "<Figure size 432x288 with 1 Axes>"
            ]
          },
          "metadata": {
            "tags": [],
            "needs_background": "light"
          }
        },
        {
          "output_type": "stream",
          "text": [
            "loss  0.004950086586177349\n"
          ],
          "name": "stdout"
        },
        {
          "output_type": "display_data",
          "data": {
            "image/png": "[encoded data removed]",
            "text/plain": [
              "<Figure size 432x288 with 1 Axes>"
            ]
          },
          "metadata": {
            "tags": [],
            "needs_background": "light"
          }
        },
        {
          "output_type": "stream",
          "text": [
            "loss  0.0009383365395478904\n"
          ],
          "name": "stdout"
        },
        {
          "output_type": "display_data",
          "data": {
            "image/png": "[encoded data removed]",
            "text/plain": [
              "<Figure size 432x288 with 1 Axes>"
            ]
          },
          "metadata": {
            "tags": [],
            "needs_background": "light"
          }
        },
        {
          "output_type": "stream",
          "text": [
            "loss  0.0001508506538812071\n"
          ],
          "name": "stdout"
        },
        {
          "output_type": "display_data",
          "data": {
            "image/png": "[encoded data removed]",
            "text/plain": [
              "<Figure size 432x288 with 1 Axes>"
            ]
          },
          "metadata": {
            "tags": [],
            "needs_background": "light"
          }
        }
      ]
    },
    {
      "cell_type": "code",
      "metadata": {
        "id": "TYw0OHMSiLJS"
      },
      "source": [
        ""
      ],
      "execution_count": null,
      "outputs": []
    }
  ]
}